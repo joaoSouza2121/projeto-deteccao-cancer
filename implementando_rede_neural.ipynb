{
  "nbformat": 4,
  "nbformat_minor": 0,
  "metadata": {
    "colab": {
      "name": "implementando-rede-neural.ipynb",
      "provenance": [],
      "authorship_tag": "ABX9TyOPLCVXyZrP+aORhoyIGeHe",
      "include_colab_link": true
    },
    "kernelspec": {
      "name": "python3",
      "display_name": "Python 3"
    },
    "language_info": {
      "name": "python"
    }
  },
  "cells": [
    {
      "cell_type": "markdown",
      "metadata": {
        "id": "view-in-github",
        "colab_type": "text"
      },
      "source": [
        "<a href=\"https://colab.research.google.com/github/joaoSouza2121/projeto-deteccao-cancer/blob/main/implementando_rede_neural.ipynb\" target=\"_parent\"><img src=\"https://colab.research.google.com/assets/colab-badge.svg\" alt=\"Open In Colab\"/></a>"
      ]
    },
    {
      "cell_type": "markdown",
      "metadata": {
        "id": "MLXMRS0q100h"
      },
      "source": [
        "##<font color=\"blue\">Machine Learning</font>\n",
        "##<font color=\"orange\">Redes Neurais Artificiais</font>"
      ]
    },
    {
      "cell_type": "markdown",
      "metadata": {
        "id": "gV4EbiJc2Nae"
      },
      "source": [
        "Implementação de uma rede neural artificial usando apenas funções matemática."
      ]
    },
    {
      "cell_type": "markdown",
      "metadata": {
        "id": "O3b0GPaY2evd"
      },
      "source": [
        "##A Arquitetura de Redes Neurais Artificiais\n",
        "Uma rede neural típica é constituída por um conjunto de neurônios interligados, infuenciando uns aos outros formando um sistema maior, capaz de armazenar conhecimento adquirido por meio de exemplos apresentados e, assim, podendo realizar inferências sobre novos conjuntos de dados. Vejamos a arquitetura de redes neurais artificiais.\n",
        "\n",
        "As redes neurais são comumente apresentadas como um grafo orientado, onde os vértices são os neurônios e as arestas as sinapses. A direção das arestas informa o tipo de alimentação, ou seja, como os neurônios são alimentados (recebem sinais de entrada). As redes neurais derivam seu poder devido a sua estrutura massiva e paralela e a habilidade de aprender por experiência. Essa experiência é transmitida por meio de exemplos obtidos do mundo real, definidos como um conjunto de características formados por dados de entrada e de saída. Se apresentamos esses dados de entrada e saída à rede, estamos diante de aprendizagem supervsionada e caso apresentemos apenas os dados de entrada, estamos diante de aprendizagem não supervisionada!\n",
        "\n",
        "O conhecimento obtido pela rede através dos exemplos é armazenado na forma de pesos das conexões, os quais serão ajustados a fim de tomar decisões corretas a partir de novas entradas, ou seja, novas situações do mundo real não conhecidas pela rede. O processo de ajuste dos pesos sinapticos é realizado pelo algoritmo de aprendizagem, responsável em armazenar na rede o conhecimento do mundo real obtido atraves de exemplos. Existem vários algoritmos de aprendizagem, dentre eles o backpropagation que é o algoritmo mais utilizado."
      ]
    },
    {
      "cell_type": "code",
      "metadata": {
        "id": "sfUjJfSi1NcY"
      },
      "source": [
        "# pacotes\n",
        "import numpy as np"
      ],
      "execution_count": 1,
      "outputs": []
    },
    {
      "cell_type": "markdown",
      "metadata": {
        "id": "JKoTWVaW21I0"
      },
      "source": [
        "##Forward Propagation"
      ]
    },
    {
      "cell_type": "markdown",
      "metadata": {
        "id": "38D02vQr297M"
      },
      "source": [
        "Desenvolvendo a Função para a inicialização dos Pesos"
      ]
    },
    {
      "cell_type": "code",
      "metadata": {
        "id": "lGmSS6e62qcn"
      },
      "source": [
        "# Função para inicialização randômica dos parâmetros do modelo\n",
        "def inicializa_parametros(dims_camada_entrada):\n",
        "   \n",
        "    # Dicionário para os parâmetros\n",
        "    parameters = {}\n",
        "   \n",
        "    # Comprimento das dimensões das camadas\n",
        "    comp = len(dims_camada_entrada)\n",
        "   \n",
        "    # Loop pelo comprimento\n",
        "    for i in range(1, comp):\n",
        "       \n",
        "        # Inicialização da matriz de pesos\n",
        "        parameters[\"W\" + str(i)] = np.random.randn(dims_camada_entrada[i], dims_camada_entrada[i - 1]) * 0.01\n",
        "       \n",
        "        # Inicialização do bias\n",
        "        parameters[\"b\" + str(i)] = np.zeros((dims_camada_entrada[i], 1))\n",
        "   \n",
        "    return parameters"
      ],
      "execution_count": 2,
      "outputs": []
    },
    {
      "cell_type": "markdown",
      "metadata": {
        "id": "bkXoUsKV4y_5"
      },
      "source": [
        "##Desenvolvendo a Função Sigmóide\n",
        "A principal razão pela qual usamos a função sigmóide é porque ela permite converter números para valores entre 0 e 1.\n",
        "\n",
        "Portanto, é especialmente usada para modelos em que temos que prever a probabilidade como uma saída. Como a probabilidade de qualquer coisa existir apenas entre o intervalo de 0 e 1, sigmoide é a escolha certa. Algumas caracterísiticas da função sigmóide:\n",
        "\n",
        "* A função é diferenciável. Isso significa que podemos encontrar a inclinação da curva sigmóide em dois pontos.\n",
        "* A função sigmóide logística pode fazer com que uma rede neural fique presa no momento do treinamento.\n",
        "* A função softmax é uma função de ativação logística mais generalizada, utilizada para a classificação em várias classes.\n",
        "\n",
        "Se a função parecer muito abstrata ou estranha para você, não se preocupe muito com detalhes como o número de Euler e ou como alguém criou essa função. Para aqueles que não são conhecedores de matemática, a única coisa importante sobre a função sigmóide é primeiro, sua curva e, segundo, sua derivada. Aqui estão mais alguns detalhes:\n",
        "\n",
        "* A função sigmóide produz resultados semelhantes aos da função de passo (Step Function) em que a saída está entre 0 e 1. A curva cruza 0,5 a z = 0, e podemos definir regras para a função de ativação, como: Se a saída do neurônio sigmóide for maior que ou igual a 0,5, gera 1; se a saída for menor que 0,5, gera 0.\n",
        "* A função sigmóide é suave e possui uma derivada simples de σ(z) * (1 - σ (z)), que é diferenciável em qualquer lugar da curva.\n",
        "Se z for muito negativo, a saída será aproximadamente 0; se z for muito positivo, a saída é aproximadamente 1; mas em torno de z = 0, onde z não é muito grande nem muito pequeno, temos um desvio relativamente maior à medida que z muda."
      ]
    },
    {
      "cell_type": "markdown",
      "metadata": {
        "id": "cwCF1b6V68de"
      },
      "source": [
        "##O que é Derivada?\n",
        "No Cálculo, a derivada em um ponto de uma função y = f(x) representa a taxa de variação instantânea de y em relação a x neste ponto.\n",
        "\n",
        "Um exemplo típico é a função velocidade que representa a taxa de variação (derivada) da função espaço. Do mesmo modo, a função aceleração é a derivada da função velocidade. Geometricamente, a derivada no ponto x = a de y = f(x) representa a inclinação da reta tangente ao gráfico desta função no ponto (a, f(a)).\n",
        "\n",
        "A função que a cada ponto x associa a derivada neste ponto de f(x) é chamada de função derivada de f(x).\n",
        "Em cada ponto, a derivada de f(x) é a tangente do ângulo que a reta tangente à curva faz em relação ao eixo das abscissas. A reta é sempre tangente à curva azul; a tangente do ângulo que ela faz com o eixo das abscissas é a derivada. Note-se que a derivada é positiva quando verde, negativa quando vermelha, e zero quando preta.\n",
        "\n",
        "A derivada de uma função y = f(x) num ponto x = x0, é igual ao valor da tangente trigonométrica do ângulo formado pela tangente geométrica à curva representativa de y=f(x), no ponto x = x0, ou seja, a derivada é o coeficiente angular da reta tangente ao gráfico da função no ponto x0.\n",
        "\n",
        "A função derivada é representada por f'(x)."
      ]
    },
    {
      "cell_type": "markdown",
      "metadata": {
        "id": "6aQ18vUf9G82"
      },
      "source": [
        "# Função Sigmoid"
      ]
    },
    {
      "cell_type": "code",
      "metadata": {
        "id": "se4M6k7m30Ad"
      },
      "source": [
        "def sigmoid(Z):\n",
        "  A = 1 / (1 + np.exp(-Z))\n",
        "  return A, Z"
      ],
      "execution_count": 3,
      "outputs": []
    },
    {
      "cell_type": "markdown",
      "metadata": {
        "id": "e_JqTEMG-Xde"
      },
      "source": [
        "##Desenvolvendo a Função ReLU\n",
        "Para usar a descida de gradiente estocástico com retropropagação de erros para treinar redes neurais profundas, é necessária uma função de ativação que se assemelhe e atue como uma função linear, mas é, de fato, uma função não linear que permite que relacionamentos complexos nos dados sejam aprendidos.\n",
        "\n",
        "A solução é usar a função de ativação linear retificada ou ReL para abreviar. Um nó ou unidade que implementa essa função de ativação é chamado de unidade de ativação linear retificada ou ReLU, para abreviar. Frequentemente, as redes que usam a função retificadora para as camadas ocultas são chamadas de redes retificadas.\n",
        "\n",
        "A função ReLU é definida como 𝑓(𝑥) = max (0, 𝑥). Normalmente, ela é aplicada elemento a elemento à saída de alguma outra função, como um produto de vetor e matriz.\n",
        "\n",
        "A adoção da ReLU pode ser facilmente considerada um dos marcos na revolução do aprendizado profundo, por ex. as técnicas que agora permitem o desenvolvimento rotineiro de redes neurais muito profundas.\n",
        "\n",
        "A derivada da função linear retificada também é fácil de calcular. A derivada da função de ativação é necessária ao atualizar os pesos de um nó como parte da retropropagação de erro.\n",
        "\n",
        "A derivada da função é a inclinação. A inclinação para valores negativos é 0,0 e a inclinação para valores positivos é 1,0.\n",
        "\n",
        "Tradicionalmente, o campo das redes neurais evitou qualquer função de ativação que não fosse completamente diferenciável, talvez adiando a adoção da função linear retificada e de outras funções lineares. Tecnicamente, não podemos calcular a derivada quando a entrada é 0,0; portanto, podemos assumir que é zero. Este não é um problema na prática.\n",
        "\n",
        "Os gradientes das ativações tangentes e hiperbólicas são menores que a porção positiva da ReLU. Isso significa que a parte positiva é atualizada mais rapidamente à medida que o treinamento avança. No entanto, isso tem um custo. O gradiente 0 no lado esquerdo tem seu próprio problema, chamado \"neurônios mortos\", no qual uma atualização de gradiente define os valores recebidos para uma ReLU, de modo que a saída é sempre zero; unidades ReLU modificadas, como ELU (ou Leaky ReLU, ou PReLU, etc.) podem melhorar isso."
      ]
    },
    {
      "cell_type": "markdown",
      "metadata": {
        "id": "xKeyF5lv_WR8"
      },
      "source": [
        "# Função de Ativação RelU"
      ]
    },
    {
      "cell_type": "code",
      "metadata": {
        "id": "9GySHV_l9ZgO"
      },
      "source": [
        "def relu(Z):\n",
        "  A = abs(Z * (Z > 0))\n",
        "  return A, Z"
      ],
      "execution_count": 4,
      "outputs": []
    },
    {
      "cell_type": "markdown",
      "metadata": {
        "id": "d03Y9Q4o_tWy"
      },
      "source": [
        "# Desenvolvendo a Ativação Linear"
      ]
    },
    {
      "cell_type": "code",
      "metadata": {
        "id": "HUVOHu-F_piy"
      },
      "source": [
        "# Operação de ativação\n",
        "# A é a matriz com os dados de entrada\n",
        "# W é a matriz de pesos\n",
        "# b é o bias\n",
        "def linear_activation(A, W, b):\n",
        "    Z = np.dot(W, A) + b\n",
        "    cache = (A, W, b)\n",
        "    return Z, cache\n"
      ],
      "execution_count": 5,
      "outputs": []
    },
    {
      "cell_type": "markdown",
      "metadata": {
        "id": "gAWkOEkwApP9"
      },
      "source": [
        "# Construindo o Processo de forward propagation"
      ]
    },
    {
      "cell_type": "code",
      "metadata": {
        "id": "RbRRO88lAnIu"
      },
      "source": [
        "# Movimento para frente (forward)\n",
        "def forward(A_prev, W, b, activation):\n",
        "   \n",
        "    # Se a função de ativação for Sigmoid, entramos neste bloco\n",
        "    if activation == \"sigmoid\":\n",
        "        Z, linear_cache = linear_activation(A_prev, W, b)\n",
        "        A, activation_cache = sigmoid(Z)\n",
        "       \n",
        "    # Se não, se for ReLu, entramos neste bloco    \n",
        "    elif activation == \"relu\":\n",
        "        Z, linear_cache = linear_activation(A_prev, W, b)\n",
        "        A, activation_cache = relu(Z)\n",
        "       \n",
        "    cache = (linear_cache, activation_cache)\n",
        "   \n",
        "    return A, cache"
      ],
      "execution_count": 6,
      "outputs": []
    },
    {
      "cell_type": "markdown",
      "metadata": {
        "id": "0HMntTzwBjnz"
      },
      "source": [
        "# Combinando Ativação e Propagação"
      ]
    },
    {
      "cell_type": "code",
      "metadata": {
        "id": "170y2ukHBhY-"
      },
      "source": [
        "# Propagação para frente\n",
        "def forward_propagation(X, parameters):\n",
        "   \n",
        "    # Lista de valores anteriores (cache)\n",
        "    caches = []\n",
        "   \n",
        "    # Dados de entrada\n",
        "    A = X\n",
        "   \n",
        "    # Comprimento dos parâmetros\n",
        "    L = len(parameters) // 2\n",
        "   \n",
        "    # Loop\n",
        "    for i in range(1, L):\n",
        "     \n",
        "        # Guarda o valor prévio de A\n",
        "        A_prev = A\n",
        "       \n",
        "        # Executa o forward\n",
        "        A, cache = forward(A_prev, parameters[\"W\" + str(i)], parameters[\"b\" + str(i)], activation = \"relu\")\n",
        "       \n",
        "        # Grava o cache\n",
        "        caches.append(cache)\n",
        "   \n",
        "    # Saída na última camada\n",
        "    A_last, cache = forward(A, parameters[\"W\" + str(L)], parameters[\"b\" + str(L)], activation = \"sigmoid\")\n",
        "   \n",
        "    # Grava o cache\n",
        "    caches.append(cache)\n",
        "   \n",
        "    return(A_last, caches)"
      ],
      "execution_count": 7,
      "outputs": []
    },
    {
      "cell_type": "markdown",
      "metadata": {
        "id": "S-en8onQCa1J"
      },
      "source": [
        "# Desenvolvendo a Função de Custo"
      ]
    },
    {
      "cell_type": "code",
      "metadata": {
        "id": "nrpefiZ_CXvf"
      },
      "source": [
        "# Função de custo (ou função de erro)\n",
        "def calcula_custo(A_last, Y):\n",
        "   \n",
        "    # Ajusta o shape de Y para obter seu comprimento (total de elementos)\n",
        "    m = Y.shape[1]\n",
        "   \n",
        "    # Calcula o custo comparando valor real e previso\n",
        "    custo = (-1 / m) * np.sum((Y * np.log(A_last)) + ((1 - Y) * np.log(1 - A_last)))\n",
        "   \n",
        "    # Ajusta o shape do custo\n",
        "    custo = np.squeeze(custo)\n",
        "   \n",
        "    return(custo)\n"
      ],
      "execution_count": 8,
      "outputs": []
    },
    {
      "cell_type": "markdown",
      "metadata": {
        "id": "fOxL5rrYDAbO"
      },
      "source": [
        "# Backward Propagation"
      ]
    },
    {
      "cell_type": "markdown",
      "metadata": {
        "id": "Ci3fgop7DJbZ"
      },
      "source": [
        "# Desenvolvendo o backward Propagation - Função Sigmoid Backward"
      ]
    },
    {
      "cell_type": "code",
      "metadata": {
        "id": "5IZQtpIYCvz6"
      },
      "source": [
        "# Função sigmoid para o backpropagation\n",
        "# Fazemos o cálculo da derivada pois não queremos o valor completo da função, mas sim sua variação\n",
        "def sigmoid_backward(da, Z):\n",
        "   \n",
        "    # Calculamos a derivada de Z\n",
        "    dg = (1 / (1 + np.exp(-Z))) * (1 - (1 / (1 + np.exp(-Z))))\n",
        "   \n",
        "    # Encontramos a mudança na derivada de z\n",
        "    dz = da * dg\n",
        "    return dz\n",
        "\n",
        "# Compare com a função sigmoid do forward propagation\n",
        "# A = 1 / (1 + np.exp(-Z))\n"
      ],
      "execution_count": 9,
      "outputs": []
    },
    {
      "cell_type": "markdown",
      "metadata": {
        "id": "dYK5x4waDtye"
      },
      "source": [
        "# Desenvolvendo o Backward Propagation - Função ReLU Backward"
      ]
    },
    {
      "cell_type": "code",
      "metadata": {
        "id": "1sqmC4J-Ditu"
      },
      "source": [
        "# Função relu para o backpropagation\n",
        "# Fazemos o cálculo da derivada pois não queremos o valor completo da função, mas sim sua variação\n",
        "def relu_backward(da, Z):\n",
        "   \n",
        "    dg = 1 * ( Z >= 0)\n",
        "    dz = da * dg\n",
        "    return dz\n",
        "\n",
        "# Compare com a função relu do forward propagation:\n",
        "# A = abs(Z * (Z > 0))\n"
      ],
      "execution_count": 10,
      "outputs": []
    },
    {
      "cell_type": "markdown",
      "metadata": {
        "id": "9SeThZsgEG1a"
      },
      "source": [
        "# desenvolvendo o Backward propagation - Ativação linear Backward"
      ]
    },
    {
      "cell_type": "code",
      "metadata": {
        "id": "2Ix1R1dFEFbW"
      },
      "source": [
        "# Ativação linear para o backpropagation\n",
        "def linear_backward_function(dz, cache):\n",
        "   \n",
        "    # Recebe os valores do cache (memória)\n",
        "    A_prev, W, b = cache\n",
        "   \n",
        "    # Shape de m\n",
        "    m = A_prev.shape[1]\n",
        "   \n",
        "    # Calcula a derivada de W (resultado da operação com dz)\n",
        "    dW = (1 / m) * np.dot(dz, A_prev.T)\n",
        "   \n",
        "    # Calcula a derivada de b (resultado da operação com dz)\n",
        "    db = (1 / m) * np.sum(dz, axis = 1, keepdims = True)\n",
        "   \n",
        "    # Calcula a derivada da operação\n",
        "    dA_prev = np.dot(W.T, dz)\n",
        "   \n",
        "    return dA_prev, dW, db\n"
      ],
      "execution_count": 11,
      "outputs": []
    },
    {
      "cell_type": "markdown",
      "metadata": {
        "id": "JGzPFKj2EgLL"
      },
      "source": [
        "# Desenvolvendo o Backward Propagation - Ativação Linear Backward"
      ]
    },
    {
      "cell_type": "code",
      "metadata": {
        "id": "hmfN68E9EelQ"
      },
      "source": [
        "# Função que define o tipo de ativação (relu ou sigmoid)\n",
        "def linear_activation_backward(dA, cache, activation):\n",
        "   \n",
        "    # Extrai o cache\n",
        "    linear_cache, activation_cache = cache\n",
        "   \n",
        "    # Verifica se a ativação é relu\n",
        "    if activation == \"relu\":\n",
        "        dZ = relu_backward(dA, activation_cache)\n",
        "        dA_prev, dW, db = linear_backward_function(dZ, linear_cache)\n",
        "       \n",
        "    # Verifica se a ativação é sigmoid\n",
        "    if activation == \"sigmoid\":\n",
        "        dZ = sigmoid_backward(dA, activation_cache)\n",
        "        dA_prev, dW, db = linear_backward_function(dZ, linear_cache)\n",
        "       \n",
        "    return dA_prev, dW, db\n"
      ],
      "execution_count": 12,
      "outputs": []
    },
    {
      "cell_type": "markdown",
      "metadata": {
        "id": "0G-te5tLFuFC"
      },
      "source": [
        "# Combinando Ativação e retropropagação - Algoritmo Backpropagation"
      ]
    },
    {
      "cell_type": "code",
      "metadata": {
        "id": "4Fz-RQMSFsJN"
      },
      "source": [
        "# Algoritmo Backpropagation (calcula os gradientes para atualização dos pesos)\n",
        "# AL = Valor previsto no Forward\n",
        "# Y = Valor real\n",
        "def backward_propagation(AL, Y, caches):\n",
        "   \n",
        "    # Dicionário para os gradientes\n",
        "    grads = {}\n",
        "   \n",
        "    # Comprimento dos dados (que estão no cache)\n",
        "    L = len(caches)\n",
        "   \n",
        "    # Extrai o comprimento para o valor de m\n",
        "    m = AL.shape[1]\n",
        "   \n",
        "    # Ajusta o shape de Y\n",
        "    Y = Y.reshape(AL.shape)\n",
        "   \n",
        "    # Calcula a derivada da previsão final da rede (feita ao final do Forward Propagation)\n",
        "    dAL = -((Y / AL) - ((1 - Y) / (1 - AL)))\n",
        "   \n",
        "    # Captura o valor corrente do cache\n",
        "    current_cache = caches[L - 1]\n",
        "   \n",
        "    # Gera a lista de gradiente para os dados, os pesos e o bias\n",
        "    # Fazemos isso uma vez, pois estamos na parte final da rede, iniciando o caminho de volta\n",
        "    grads[\"dA\" + str(L - 1)], grads[\"dW\" + str(L)], grads[\"db\" + str(L)] = linear_activation_backward(dAL, current_cache, activation = \"sigmoid\")\n",
        "   \n",
        "    # Loop para calcular a derivada durante as ativações lineares com a relu\n",
        "    for l in reversed(range(L - 1)):\n",
        "       \n",
        "        # Cache atual\n",
        "        current_cache = caches[l]\n",
        "       \n",
        "        # Calcula as derivadas\n",
        "        dA_prev, dW, db = linear_activation_backward(grads[\"dA\" + str(l + 1)], current_cache, activation = \"relu\")\n",
        "       \n",
        "        # Alimenta os gradientes na lista, usando o índice respectivo\n",
        "        grads[\"dA\" + str(l)] = dA_prev\n",
        "        grads[\"dW\" + str(l + 1)] = dW\n",
        "        grads[\"db\" + str(l + 1)] = db\n",
        "       \n",
        "    return grads"
      ],
      "execution_count": 13,
      "outputs": []
    },
    {
      "cell_type": "markdown",
      "metadata": {
        "id": "5mCpv7jlHS_n"
      },
      "source": [
        "# Gradiente e Atualização dos Pesos"
      ]
    },
    {
      "cell_type": "code",
      "metadata": {
        "id": "h1xyU5TwGspY"
      },
      "source": [
        "# Função de atualização de pesos\n",
        "def atualiza_pesos(parameters, grads, learning_rate):\n",
        "   \n",
        "    # Comprimento da estrutura de dados com os parâmetros (pesos e bias)\n",
        "    L = len(parameters)//2\n",
        "   \n",
        "    # Loop para atualização dos pesos\n",
        "    for l in range(L):\n",
        "       \n",
        "        # Atualização dos pesos\n",
        "        parameters[\"W\" + str(l + 1)] = parameters[\"W\" + str(l + 1)] - (learning_rate * grads[\"dW\" + str(l + 1)])\n",
        "       \n",
        "        # Atualização do bias\n",
        "        parameters[\"b\" + str(l + 1)] = parameters[\"b\" + str(l + 1)] - (learning_rate * grads[\"db\" + str(l + 1)])\n",
        "   \n",
        "    return parameters\n"
      ],
      "execution_count": 14,
      "outputs": []
    },
    {
      "cell_type": "markdown",
      "metadata": {
        "id": "gJFIaZBeI0G2"
      },
      "source": [
        "# Implementando a Rede Completa"
      ]
    },
    {
      "cell_type": "code",
      "metadata": {
        "id": "r5vjopvdIBjQ"
      },
      "source": [
        "# Modelo completo da rede neural\n",
        "def modeloNN(X, Y, dims_camada_entrada, learning_rate = 0.0075, num_iterations = 100):\n",
        "   \n",
        "    # Lista para receber o custo a cada época de treinamento\n",
        "    custos = []\n",
        "   \n",
        "    # Inicializa os parâmetros\n",
        "    parametros = inicializa_parametros(dims_camada_entrada)\n",
        "   \n",
        "    # Loop pelo número de iterações (épocas)\n",
        "    for i in range(num_iterations):\n",
        "       \n",
        "        # Forward Propagation\n",
        "        AL, caches = forward_propagation(X, parametros)\n",
        "       \n",
        "        # Calcula o custo\n",
        "        custo = calcula_custo(AL, Y)\n",
        "       \n",
        "        # Backward Propagation\n",
        "        # Nota: ao invés de AL e Y, poderíamos passar somente o valor do custo\n",
        "        # Estamos passando o valor de AL e Y para fique claro didaticamente o que está sendo feito\n",
        "        gradientes = backward_propagation(AL, Y, caches)\n",
        "       \n",
        "        # Atualiza os pesos\n",
        "        parametros = atualiza_pesos(parametros, gradientes, learning_rate)\n",
        "       \n",
        "        # Print do valor intermediário do custo\n",
        "        # A redução do custo indica o aprendizado do modelo\n",
        "        if i % 10 == 0:\n",
        "            print(\"Custo Após \" + str(i) + \" iterações é \" + str(custo))\n",
        "            custos.append(custo)\n",
        "           \n",
        "    return parametros, custos \n"
      ],
      "execution_count": 15,
      "outputs": []
    },
    {
      "cell_type": "markdown",
      "metadata": {
        "id": "qhHyN0Q1Kzlr"
      },
      "source": [
        "# Desenvolvendo a Função para fazer Previsões"
      ]
    },
    {
      "cell_type": "code",
      "metadata": {
        "id": "8u29WxoIKSJY"
      },
      "source": [
        "# Função para fazer as previsões\n",
        "# Não precisamos do Backpropagation pois ao fazer previsões como o modelo treinado,\n",
        "# teremos os melhores valores de pesos (parametros)\n",
        "def predict(X, parametros):\n",
        "    AL, caches = forward_propagation(X, parametros)\n",
        "    return AL\n"
      ],
      "execution_count": 16,
      "outputs": []
    },
    {
      "cell_type": "markdown",
      "metadata": {
        "id": "C4oyFDhLM2eO"
      },
      "source": [
        "##Usando a Rede para Prever a Ocorrência de Câncer"
      ]
    },
    {
      "cell_type": "code",
      "metadata": {
        "id": "NaiE0NrALFaQ"
      },
      "source": [
        "# Imports\n",
        "import sklearn\n",
        "import numpy as np\n",
        "import pandas as pd\n",
        "import matplotlib\n",
        "import matplotlib.pyplot as plt\n",
        "from sklearn.datasets import load_breast_cancer\n",
        "from sklearn.model_selection import train_test_split\n",
        "from sklearn.metrics import classification_report\n"
      ],
      "execution_count": 17,
      "outputs": []
    },
    {
      "cell_type": "markdown",
      "metadata": {
        "id": "dI6HMdibNakU"
      },
      "source": [
        "# carregando os dados"
      ]
    },
    {
      "cell_type": "code",
      "metadata": {
        "id": "hdT1Qa5lNYJ9"
      },
      "source": [
        "# Carregamos o objeto completo\n",
        "temp = load_breast_cancer()\n"
      ],
      "execution_count": 18,
      "outputs": []
    },
    {
      "cell_type": "code",
      "metadata": {
        "colab": {
          "base_uri": "https://localhost:8080/"
        },
        "id": "xdaiHtWaNhne",
        "outputId": "8535ed88-51b9-403a-a822-30f72b260e7f"
      },
      "source": [
        "# Tipo do objeto\n",
        "type(temp)"
      ],
      "execution_count": 19,
      "outputs": [
        {
          "output_type": "execute_result",
          "data": {
            "text/plain": [
              "sklearn.utils.Bunch"
            ]
          },
          "metadata": {
            "tags": []
          },
          "execution_count": 19
        }
      ]
    },
    {
      "cell_type": "code",
      "metadata": {
        "colab": {
          "base_uri": "https://localhost:8080/"
        },
        "id": "PZtkddDINoWi",
        "outputId": "30df950d-590d-4cbe-b688-266e78fd18ea"
      },
      "source": [
        "# Visualiza o Objeto\n",
        "temp"
      ],
      "execution_count": 20,
      "outputs": [
        {
          "output_type": "execute_result",
          "data": {
            "text/plain": [
              "{'DESCR': '.. _breast_cancer_dataset:\\n\\nBreast cancer wisconsin (diagnostic) dataset\\n--------------------------------------------\\n\\n**Data Set Characteristics:**\\n\\n    :Number of Instances: 569\\n\\n    :Number of Attributes: 30 numeric, predictive attributes and the class\\n\\n    :Attribute Information:\\n        - radius (mean of distances from center to points on the perimeter)\\n        - texture (standard deviation of gray-scale values)\\n        - perimeter\\n        - area\\n        - smoothness (local variation in radius lengths)\\n        - compactness (perimeter^2 / area - 1.0)\\n        - concavity (severity of concave portions of the contour)\\n        - concave points (number of concave portions of the contour)\\n        - symmetry \\n        - fractal dimension (\"coastline approximation\" - 1)\\n\\n        The mean, standard error, and \"worst\" or largest (mean of the three\\n        largest values) of these features were computed for each image,\\n        resulting in 30 features.  For instance, field 3 is Mean Radius, field\\n        13 is Radius SE, field 23 is Worst Radius.\\n\\n        - class:\\n                - WDBC-Malignant\\n                - WDBC-Benign\\n\\n    :Summary Statistics:\\n\\n    ===================================== ====== ======\\n                                           Min    Max\\n    ===================================== ====== ======\\n    radius (mean):                        6.981  28.11\\n    texture (mean):                       9.71   39.28\\n    perimeter (mean):                     43.79  188.5\\n    area (mean):                          143.5  2501.0\\n    smoothness (mean):                    0.053  0.163\\n    compactness (mean):                   0.019  0.345\\n    concavity (mean):                     0.0    0.427\\n    concave points (mean):                0.0    0.201\\n    symmetry (mean):                      0.106  0.304\\n    fractal dimension (mean):             0.05   0.097\\n    radius (standard error):              0.112  2.873\\n    texture (standard error):             0.36   4.885\\n    perimeter (standard error):           0.757  21.98\\n    area (standard error):                6.802  542.2\\n    smoothness (standard error):          0.002  0.031\\n    compactness (standard error):         0.002  0.135\\n    concavity (standard error):           0.0    0.396\\n    concave points (standard error):      0.0    0.053\\n    symmetry (standard error):            0.008  0.079\\n    fractal dimension (standard error):   0.001  0.03\\n    radius (worst):                       7.93   36.04\\n    texture (worst):                      12.02  49.54\\n    perimeter (worst):                    50.41  251.2\\n    area (worst):                         185.2  4254.0\\n    smoothness (worst):                   0.071  0.223\\n    compactness (worst):                  0.027  1.058\\n    concavity (worst):                    0.0    1.252\\n    concave points (worst):               0.0    0.291\\n    symmetry (worst):                     0.156  0.664\\n    fractal dimension (worst):            0.055  0.208\\n    ===================================== ====== ======\\n\\n    :Missing Attribute Values: None\\n\\n    :Class Distribution: 212 - Malignant, 357 - Benign\\n\\n    :Creator:  Dr. William H. Wolberg, W. Nick Street, Olvi L. Mangasarian\\n\\n    :Donor: Nick Street\\n\\n    :Date: November, 1995\\n\\nThis is a copy of UCI ML Breast Cancer Wisconsin (Diagnostic) datasets.\\nhttps://goo.gl/U2Uwz2\\n\\nFeatures are computed from a digitized image of a fine needle\\naspirate (FNA) of a breast mass.  They describe\\ncharacteristics of the cell nuclei present in the image.\\n\\nSeparating plane described above was obtained using\\nMultisurface Method-Tree (MSM-T) [K. P. Bennett, \"Decision Tree\\nConstruction Via Linear Programming.\" Proceedings of the 4th\\nMidwest Artificial Intelligence and Cognitive Science Society,\\npp. 97-101, 1992], a classification method which uses linear\\nprogramming to construct a decision tree.  Relevant features\\nwere selected using an exhaustive search in the space of 1-4\\nfeatures and 1-3 separating planes.\\n\\nThe actual linear program used to obtain the separating plane\\nin the 3-dimensional space is that described in:\\n[K. P. Bennett and O. L. Mangasarian: \"Robust Linear\\nProgramming Discrimination of Two Linearly Inseparable Sets\",\\nOptimization Methods and Software 1, 1992, 23-34].\\n\\nThis database is also available through the UW CS ftp server:\\n\\nftp ftp.cs.wisc.edu\\ncd math-prog/cpo-dataset/machine-learn/WDBC/\\n\\n.. topic:: References\\n\\n   - W.N. Street, W.H. Wolberg and O.L. Mangasarian. Nuclear feature extraction \\n     for breast tumor diagnosis. IS&T/SPIE 1993 International Symposium on \\n     Electronic Imaging: Science and Technology, volume 1905, pages 861-870,\\n     San Jose, CA, 1993.\\n   - O.L. Mangasarian, W.N. Street and W.H. Wolberg. Breast cancer diagnosis and \\n     prognosis via linear programming. Operations Research, 43(4), pages 570-577, \\n     July-August 1995.\\n   - W.H. Wolberg, W.N. Street, and O.L. Mangasarian. Machine learning techniques\\n     to diagnose breast cancer from fine-needle aspirates. Cancer Letters 77 (1994) \\n     163-171.',\n",
              " 'data': array([[1.799e+01, 1.038e+01, 1.228e+02, ..., 2.654e-01, 4.601e-01,\n",
              "         1.189e-01],\n",
              "        [2.057e+01, 1.777e+01, 1.329e+02, ..., 1.860e-01, 2.750e-01,\n",
              "         8.902e-02],\n",
              "        [1.969e+01, 2.125e+01, 1.300e+02, ..., 2.430e-01, 3.613e-01,\n",
              "         8.758e-02],\n",
              "        ...,\n",
              "        [1.660e+01, 2.808e+01, 1.083e+02, ..., 1.418e-01, 2.218e-01,\n",
              "         7.820e-02],\n",
              "        [2.060e+01, 2.933e+01, 1.401e+02, ..., 2.650e-01, 4.087e-01,\n",
              "         1.240e-01],\n",
              "        [7.760e+00, 2.454e+01, 4.792e+01, ..., 0.000e+00, 2.871e-01,\n",
              "         7.039e-02]]),\n",
              " 'feature_names': array(['mean radius', 'mean texture', 'mean perimeter', 'mean area',\n",
              "        'mean smoothness', 'mean compactness', 'mean concavity',\n",
              "        'mean concave points', 'mean symmetry', 'mean fractal dimension',\n",
              "        'radius error', 'texture error', 'perimeter error', 'area error',\n",
              "        'smoothness error', 'compactness error', 'concavity error',\n",
              "        'concave points error', 'symmetry error',\n",
              "        'fractal dimension error', 'worst radius', 'worst texture',\n",
              "        'worst perimeter', 'worst area', 'worst smoothness',\n",
              "        'worst compactness', 'worst concavity', 'worst concave points',\n",
              "        'worst symmetry', 'worst fractal dimension'], dtype='<U23'),\n",
              " 'filename': '/usr/local/lib/python3.7/dist-packages/sklearn/datasets/data/breast_cancer.csv',\n",
              " 'target': array([0, 0, 0, 0, 0, 0, 0, 0, 0, 0, 0, 0, 0, 0, 0, 0, 0, 0, 0, 1, 1, 1,\n",
              "        0, 0, 0, 0, 0, 0, 0, 0, 0, 0, 0, 0, 0, 0, 0, 1, 0, 0, 0, 0, 0, 0,\n",
              "        0, 0, 1, 0, 1, 1, 1, 1, 1, 0, 0, 1, 0, 0, 1, 1, 1, 1, 0, 1, 0, 0,\n",
              "        1, 1, 1, 1, 0, 1, 0, 0, 1, 0, 1, 0, 0, 1, 1, 1, 0, 0, 1, 0, 0, 0,\n",
              "        1, 1, 1, 0, 1, 1, 0, 0, 1, 1, 1, 0, 0, 1, 1, 1, 1, 0, 1, 1, 0, 1,\n",
              "        1, 1, 1, 1, 1, 1, 1, 0, 0, 0, 1, 0, 0, 1, 1, 1, 0, 0, 1, 0, 1, 0,\n",
              "        0, 1, 0, 0, 1, 1, 0, 1, 1, 0, 1, 1, 1, 1, 0, 1, 1, 1, 1, 1, 1, 1,\n",
              "        1, 1, 0, 1, 1, 1, 1, 0, 0, 1, 0, 1, 1, 0, 0, 1, 1, 0, 0, 1, 1, 1,\n",
              "        1, 0, 1, 1, 0, 0, 0, 1, 0, 1, 0, 1, 1, 1, 0, 1, 1, 0, 0, 1, 0, 0,\n",
              "        0, 0, 1, 0, 0, 0, 1, 0, 1, 0, 1, 1, 0, 1, 0, 0, 0, 0, 1, 1, 0, 0,\n",
              "        1, 1, 1, 0, 1, 1, 1, 1, 1, 0, 0, 1, 1, 0, 1, 1, 0, 0, 1, 0, 1, 1,\n",
              "        1, 1, 0, 1, 1, 1, 1, 1, 0, 1, 0, 0, 0, 0, 0, 0, 0, 0, 0, 0, 0, 0,\n",
              "        0, 0, 1, 1, 1, 1, 1, 1, 0, 1, 0, 1, 1, 0, 1, 1, 0, 1, 0, 0, 1, 1,\n",
              "        1, 1, 1, 1, 1, 1, 1, 1, 1, 1, 1, 0, 1, 1, 0, 1, 0, 1, 1, 1, 1, 1,\n",
              "        1, 1, 1, 1, 1, 1, 1, 1, 1, 0, 1, 1, 1, 0, 1, 0, 1, 1, 1, 1, 0, 0,\n",
              "        0, 1, 1, 1, 1, 0, 1, 0, 1, 0, 1, 1, 1, 0, 1, 1, 1, 1, 1, 1, 1, 0,\n",
              "        0, 0, 1, 1, 1, 1, 1, 1, 1, 1, 1, 1, 1, 0, 0, 1, 0, 0, 0, 1, 0, 0,\n",
              "        1, 1, 1, 1, 1, 0, 1, 1, 1, 1, 1, 0, 1, 1, 1, 0, 1, 1, 0, 0, 1, 1,\n",
              "        1, 1, 1, 1, 0, 1, 1, 1, 1, 1, 1, 1, 0, 1, 1, 1, 1, 1, 0, 1, 1, 0,\n",
              "        1, 1, 1, 1, 1, 1, 1, 1, 1, 1, 1, 1, 0, 1, 0, 0, 1, 0, 1, 1, 1, 1,\n",
              "        1, 0, 1, 1, 0, 1, 0, 1, 1, 0, 1, 0, 1, 1, 1, 1, 1, 1, 1, 1, 0, 0,\n",
              "        1, 1, 1, 1, 1, 1, 0, 1, 1, 1, 1, 1, 1, 1, 1, 1, 1, 0, 1, 1, 1, 1,\n",
              "        1, 1, 1, 0, 1, 0, 1, 1, 0, 1, 1, 1, 1, 1, 0, 0, 1, 0, 1, 0, 1, 1,\n",
              "        1, 1, 1, 0, 1, 1, 0, 1, 0, 1, 0, 0, 1, 1, 1, 0, 1, 1, 1, 1, 1, 1,\n",
              "        1, 1, 1, 1, 1, 0, 1, 0, 0, 1, 1, 1, 1, 1, 1, 1, 1, 1, 1, 1, 1, 1,\n",
              "        1, 1, 1, 1, 1, 1, 1, 1, 1, 1, 1, 1, 0, 0, 0, 0, 0, 0, 1]),\n",
              " 'target_names': array(['malignant', 'benign'], dtype='<U9')}"
            ]
          },
          "metadata": {
            "tags": []
          },
          "execution_count": 20
        }
      ]
    },
    {
      "cell_type": "code",
      "metadata": {
        "id": "B7X8FAzZNwEe"
      },
      "source": [
        "# Carregamos o dataset\n",
        "dados = pd.DataFrame(columns = load_breast_cancer()[\"feature_names\"], data = load_breast_cancer()[\"data\"])\n"
      ],
      "execution_count": 21,
      "outputs": []
    },
    {
      "cell_type": "code",
      "metadata": {
        "colab": {
          "base_uri": "https://localhost:8080/"
        },
        "id": "Om_Tpg5DORim",
        "outputId": "5e5fe442-df67-46d8-8b0b-0efe03c99fcb"
      },
      "source": [
        "# Shape\n",
        "dados.shape"
      ],
      "execution_count": 22,
      "outputs": [
        {
          "output_type": "execute_result",
          "data": {
            "text/plain": [
              "(569, 30)"
            ]
          },
          "metadata": {
            "tags": []
          },
          "execution_count": 22
        }
      ]
    },
    {
      "cell_type": "code",
      "metadata": {
        "colab": {
          "base_uri": "https://localhost:8080/",
          "height": 258
        },
        "id": "usXUBXJkOWNm",
        "outputId": "fc853b5e-6c40-49b3-8c89-5e1393eb0999"
      },
      "source": [
        "# visualizando os dados\n",
        "dados.head()"
      ],
      "execution_count": 23,
      "outputs": [
        {
          "output_type": "execute_result",
          "data": {
            "text/html": [
              "<div>\n",
              "<style scoped>\n",
              "    .dataframe tbody tr th:only-of-type {\n",
              "        vertical-align: middle;\n",
              "    }\n",
              "\n",
              "    .dataframe tbody tr th {\n",
              "        vertical-align: top;\n",
              "    }\n",
              "\n",
              "    .dataframe thead th {\n",
              "        text-align: right;\n",
              "    }\n",
              "</style>\n",
              "<table border=\"1\" class=\"dataframe\">\n",
              "  <thead>\n",
              "    <tr style=\"text-align: right;\">\n",
              "      <th></th>\n",
              "      <th>mean radius</th>\n",
              "      <th>mean texture</th>\n",
              "      <th>mean perimeter</th>\n",
              "      <th>mean area</th>\n",
              "      <th>mean smoothness</th>\n",
              "      <th>mean compactness</th>\n",
              "      <th>mean concavity</th>\n",
              "      <th>mean concave points</th>\n",
              "      <th>mean symmetry</th>\n",
              "      <th>mean fractal dimension</th>\n",
              "      <th>radius error</th>\n",
              "      <th>texture error</th>\n",
              "      <th>perimeter error</th>\n",
              "      <th>area error</th>\n",
              "      <th>smoothness error</th>\n",
              "      <th>compactness error</th>\n",
              "      <th>concavity error</th>\n",
              "      <th>concave points error</th>\n",
              "      <th>symmetry error</th>\n",
              "      <th>fractal dimension error</th>\n",
              "      <th>worst radius</th>\n",
              "      <th>worst texture</th>\n",
              "      <th>worst perimeter</th>\n",
              "      <th>worst area</th>\n",
              "      <th>worst smoothness</th>\n",
              "      <th>worst compactness</th>\n",
              "      <th>worst concavity</th>\n",
              "      <th>worst concave points</th>\n",
              "      <th>worst symmetry</th>\n",
              "      <th>worst fractal dimension</th>\n",
              "    </tr>\n",
              "  </thead>\n",
              "  <tbody>\n",
              "    <tr>\n",
              "      <th>0</th>\n",
              "      <td>17.99</td>\n",
              "      <td>10.38</td>\n",
              "      <td>122.80</td>\n",
              "      <td>1001.0</td>\n",
              "      <td>0.11840</td>\n",
              "      <td>0.27760</td>\n",
              "      <td>0.3001</td>\n",
              "      <td>0.14710</td>\n",
              "      <td>0.2419</td>\n",
              "      <td>0.07871</td>\n",
              "      <td>1.0950</td>\n",
              "      <td>0.9053</td>\n",
              "      <td>8.589</td>\n",
              "      <td>153.40</td>\n",
              "      <td>0.006399</td>\n",
              "      <td>0.04904</td>\n",
              "      <td>0.05373</td>\n",
              "      <td>0.01587</td>\n",
              "      <td>0.03003</td>\n",
              "      <td>0.006193</td>\n",
              "      <td>25.38</td>\n",
              "      <td>17.33</td>\n",
              "      <td>184.60</td>\n",
              "      <td>2019.0</td>\n",
              "      <td>0.1622</td>\n",
              "      <td>0.6656</td>\n",
              "      <td>0.7119</td>\n",
              "      <td>0.2654</td>\n",
              "      <td>0.4601</td>\n",
              "      <td>0.11890</td>\n",
              "    </tr>\n",
              "    <tr>\n",
              "      <th>1</th>\n",
              "      <td>20.57</td>\n",
              "      <td>17.77</td>\n",
              "      <td>132.90</td>\n",
              "      <td>1326.0</td>\n",
              "      <td>0.08474</td>\n",
              "      <td>0.07864</td>\n",
              "      <td>0.0869</td>\n",
              "      <td>0.07017</td>\n",
              "      <td>0.1812</td>\n",
              "      <td>0.05667</td>\n",
              "      <td>0.5435</td>\n",
              "      <td>0.7339</td>\n",
              "      <td>3.398</td>\n",
              "      <td>74.08</td>\n",
              "      <td>0.005225</td>\n",
              "      <td>0.01308</td>\n",
              "      <td>0.01860</td>\n",
              "      <td>0.01340</td>\n",
              "      <td>0.01389</td>\n",
              "      <td>0.003532</td>\n",
              "      <td>24.99</td>\n",
              "      <td>23.41</td>\n",
              "      <td>158.80</td>\n",
              "      <td>1956.0</td>\n",
              "      <td>0.1238</td>\n",
              "      <td>0.1866</td>\n",
              "      <td>0.2416</td>\n",
              "      <td>0.1860</td>\n",
              "      <td>0.2750</td>\n",
              "      <td>0.08902</td>\n",
              "    </tr>\n",
              "    <tr>\n",
              "      <th>2</th>\n",
              "      <td>19.69</td>\n",
              "      <td>21.25</td>\n",
              "      <td>130.00</td>\n",
              "      <td>1203.0</td>\n",
              "      <td>0.10960</td>\n",
              "      <td>0.15990</td>\n",
              "      <td>0.1974</td>\n",
              "      <td>0.12790</td>\n",
              "      <td>0.2069</td>\n",
              "      <td>0.05999</td>\n",
              "      <td>0.7456</td>\n",
              "      <td>0.7869</td>\n",
              "      <td>4.585</td>\n",
              "      <td>94.03</td>\n",
              "      <td>0.006150</td>\n",
              "      <td>0.04006</td>\n",
              "      <td>0.03832</td>\n",
              "      <td>0.02058</td>\n",
              "      <td>0.02250</td>\n",
              "      <td>0.004571</td>\n",
              "      <td>23.57</td>\n",
              "      <td>25.53</td>\n",
              "      <td>152.50</td>\n",
              "      <td>1709.0</td>\n",
              "      <td>0.1444</td>\n",
              "      <td>0.4245</td>\n",
              "      <td>0.4504</td>\n",
              "      <td>0.2430</td>\n",
              "      <td>0.3613</td>\n",
              "      <td>0.08758</td>\n",
              "    </tr>\n",
              "    <tr>\n",
              "      <th>3</th>\n",
              "      <td>11.42</td>\n",
              "      <td>20.38</td>\n",
              "      <td>77.58</td>\n",
              "      <td>386.1</td>\n",
              "      <td>0.14250</td>\n",
              "      <td>0.28390</td>\n",
              "      <td>0.2414</td>\n",
              "      <td>0.10520</td>\n",
              "      <td>0.2597</td>\n",
              "      <td>0.09744</td>\n",
              "      <td>0.4956</td>\n",
              "      <td>1.1560</td>\n",
              "      <td>3.445</td>\n",
              "      <td>27.23</td>\n",
              "      <td>0.009110</td>\n",
              "      <td>0.07458</td>\n",
              "      <td>0.05661</td>\n",
              "      <td>0.01867</td>\n",
              "      <td>0.05963</td>\n",
              "      <td>0.009208</td>\n",
              "      <td>14.91</td>\n",
              "      <td>26.50</td>\n",
              "      <td>98.87</td>\n",
              "      <td>567.7</td>\n",
              "      <td>0.2098</td>\n",
              "      <td>0.8663</td>\n",
              "      <td>0.6869</td>\n",
              "      <td>0.2575</td>\n",
              "      <td>0.6638</td>\n",
              "      <td>0.17300</td>\n",
              "    </tr>\n",
              "    <tr>\n",
              "      <th>4</th>\n",
              "      <td>20.29</td>\n",
              "      <td>14.34</td>\n",
              "      <td>135.10</td>\n",
              "      <td>1297.0</td>\n",
              "      <td>0.10030</td>\n",
              "      <td>0.13280</td>\n",
              "      <td>0.1980</td>\n",
              "      <td>0.10430</td>\n",
              "      <td>0.1809</td>\n",
              "      <td>0.05883</td>\n",
              "      <td>0.7572</td>\n",
              "      <td>0.7813</td>\n",
              "      <td>5.438</td>\n",
              "      <td>94.44</td>\n",
              "      <td>0.011490</td>\n",
              "      <td>0.02461</td>\n",
              "      <td>0.05688</td>\n",
              "      <td>0.01885</td>\n",
              "      <td>0.01756</td>\n",
              "      <td>0.005115</td>\n",
              "      <td>22.54</td>\n",
              "      <td>16.67</td>\n",
              "      <td>152.20</td>\n",
              "      <td>1575.0</td>\n",
              "      <td>0.1374</td>\n",
              "      <td>0.2050</td>\n",
              "      <td>0.4000</td>\n",
              "      <td>0.1625</td>\n",
              "      <td>0.2364</td>\n",
              "      <td>0.07678</td>\n",
              "    </tr>\n",
              "  </tbody>\n",
              "</table>\n",
              "</div>"
            ],
            "text/plain": [
              "   mean radius  mean texture  ...  worst symmetry  worst fractal dimension\n",
              "0        17.99         10.38  ...          0.4601                  0.11890\n",
              "1        20.57         17.77  ...          0.2750                  0.08902\n",
              "2        19.69         21.25  ...          0.3613                  0.08758\n",
              "3        11.42         20.38  ...          0.6638                  0.17300\n",
              "4        20.29         14.34  ...          0.2364                  0.07678\n",
              "\n",
              "[5 rows x 30 columns]"
            ]
          },
          "metadata": {
            "tags": []
          },
          "execution_count": 23
        }
      ]
    },
    {
      "cell_type": "code",
      "metadata": {
        "colab": {
          "base_uri": "https://localhost:8080/"
        },
        "id": "ox3z-F0POhuO",
        "outputId": "a7c75109-d3e5-4852-8adf-2084c77bbe87"
      },
      "source": [
        "# Verifica se temos valores ausentes\n",
        "dados.isnull().any()"
      ],
      "execution_count": 24,
      "outputs": [
        {
          "output_type": "execute_result",
          "data": {
            "text/plain": [
              "mean radius                False\n",
              "mean texture               False\n",
              "mean perimeter             False\n",
              "mean area                  False\n",
              "mean smoothness            False\n",
              "mean compactness           False\n",
              "mean concavity             False\n",
              "mean concave points        False\n",
              "mean symmetry              False\n",
              "mean fractal dimension     False\n",
              "radius error               False\n",
              "texture error              False\n",
              "perimeter error            False\n",
              "area error                 False\n",
              "smoothness error           False\n",
              "compactness error          False\n",
              "concavity error            False\n",
              "concave points error       False\n",
              "symmetry error             False\n",
              "fractal dimension error    False\n",
              "worst radius               False\n",
              "worst texture              False\n",
              "worst perimeter            False\n",
              "worst area                 False\n",
              "worst smoothness           False\n",
              "worst compactness          False\n",
              "worst concavity            False\n",
              "worst concave points       False\n",
              "worst symmetry             False\n",
              "worst fractal dimension    False\n",
              "dtype: bool"
            ]
          },
          "metadata": {
            "tags": []
          },
          "execution_count": 24
        }
      ]
    },
    {
      "cell_type": "code",
      "metadata": {
        "id": "SzJElvSHPkC3"
      },
      "source": [
        "# Separa a variável target\n",
        "target = load_breast_cancer()[\"target\"]\n"
      ],
      "execution_count": 25,
      "outputs": []
    },
    {
      "cell_type": "code",
      "metadata": {
        "colab": {
          "base_uri": "https://localhost:8080/"
        },
        "id": "g2ex-l5zUK2m",
        "outputId": "60bf9a32-2749-43a7-a303-9908385a7563"
      },
      "source": [
        "type(target)"
      ],
      "execution_count": 26,
      "outputs": [
        {
          "output_type": "execute_result",
          "data": {
            "text/plain": [
              "numpy.ndarray"
            ]
          },
          "metadata": {
            "tags": []
          },
          "execution_count": 26
        }
      ]
    },
    {
      "cell_type": "code",
      "metadata": {
        "colab": {
          "base_uri": "https://localhost:8080/"
        },
        "id": "3FYTX8gGUOQz",
        "outputId": "5b7e1602-4057-4ebd-d2a0-c4c3146810ed"
      },
      "source": [
        "target"
      ],
      "execution_count": 27,
      "outputs": [
        {
          "output_type": "execute_result",
          "data": {
            "text/plain": [
              "array([0, 0, 0, 0, 0, 0, 0, 0, 0, 0, 0, 0, 0, 0, 0, 0, 0, 0, 0, 1, 1, 1,\n",
              "       0, 0, 0, 0, 0, 0, 0, 0, 0, 0, 0, 0, 0, 0, 0, 1, 0, 0, 0, 0, 0, 0,\n",
              "       0, 0, 1, 0, 1, 1, 1, 1, 1, 0, 0, 1, 0, 0, 1, 1, 1, 1, 0, 1, 0, 0,\n",
              "       1, 1, 1, 1, 0, 1, 0, 0, 1, 0, 1, 0, 0, 1, 1, 1, 0, 0, 1, 0, 0, 0,\n",
              "       1, 1, 1, 0, 1, 1, 0, 0, 1, 1, 1, 0, 0, 1, 1, 1, 1, 0, 1, 1, 0, 1,\n",
              "       1, 1, 1, 1, 1, 1, 1, 0, 0, 0, 1, 0, 0, 1, 1, 1, 0, 0, 1, 0, 1, 0,\n",
              "       0, 1, 0, 0, 1, 1, 0, 1, 1, 0, 1, 1, 1, 1, 0, 1, 1, 1, 1, 1, 1, 1,\n",
              "       1, 1, 0, 1, 1, 1, 1, 0, 0, 1, 0, 1, 1, 0, 0, 1, 1, 0, 0, 1, 1, 1,\n",
              "       1, 0, 1, 1, 0, 0, 0, 1, 0, 1, 0, 1, 1, 1, 0, 1, 1, 0, 0, 1, 0, 0,\n",
              "       0, 0, 1, 0, 0, 0, 1, 0, 1, 0, 1, 1, 0, 1, 0, 0, 0, 0, 1, 1, 0, 0,\n",
              "       1, 1, 1, 0, 1, 1, 1, 1, 1, 0, 0, 1, 1, 0, 1, 1, 0, 0, 1, 0, 1, 1,\n",
              "       1, 1, 0, 1, 1, 1, 1, 1, 0, 1, 0, 0, 0, 0, 0, 0, 0, 0, 0, 0, 0, 0,\n",
              "       0, 0, 1, 1, 1, 1, 1, 1, 0, 1, 0, 1, 1, 0, 1, 1, 0, 1, 0, 0, 1, 1,\n",
              "       1, 1, 1, 1, 1, 1, 1, 1, 1, 1, 1, 0, 1, 1, 0, 1, 0, 1, 1, 1, 1, 1,\n",
              "       1, 1, 1, 1, 1, 1, 1, 1, 1, 0, 1, 1, 1, 0, 1, 0, 1, 1, 1, 1, 0, 0,\n",
              "       0, 1, 1, 1, 1, 0, 1, 0, 1, 0, 1, 1, 1, 0, 1, 1, 1, 1, 1, 1, 1, 0,\n",
              "       0, 0, 1, 1, 1, 1, 1, 1, 1, 1, 1, 1, 1, 0, 0, 1, 0, 0, 0, 1, 0, 0,\n",
              "       1, 1, 1, 1, 1, 0, 1, 1, 1, 1, 1, 0, 1, 1, 1, 0, 1, 1, 0, 0, 1, 1,\n",
              "       1, 1, 1, 1, 0, 1, 1, 1, 1, 1, 1, 1, 0, 1, 1, 1, 1, 1, 0, 1, 1, 0,\n",
              "       1, 1, 1, 1, 1, 1, 1, 1, 1, 1, 1, 1, 0, 1, 0, 0, 1, 0, 1, 1, 1, 1,\n",
              "       1, 0, 1, 1, 0, 1, 0, 1, 1, 0, 1, 0, 1, 1, 1, 1, 1, 1, 1, 1, 0, 0,\n",
              "       1, 1, 1, 1, 1, 1, 0, 1, 1, 1, 1, 1, 1, 1, 1, 1, 1, 0, 1, 1, 1, 1,\n",
              "       1, 1, 1, 0, 1, 0, 1, 1, 0, 1, 1, 1, 1, 1, 0, 0, 1, 0, 1, 0, 1, 1,\n",
              "       1, 1, 1, 0, 1, 1, 0, 1, 0, 1, 0, 0, 1, 1, 1, 0, 1, 1, 1, 1, 1, 1,\n",
              "       1, 1, 1, 1, 1, 0, 1, 0, 0, 1, 1, 1, 1, 1, 1, 1, 1, 1, 1, 1, 1, 1,\n",
              "       1, 1, 1, 1, 1, 1, 1, 1, 1, 1, 1, 1, 0, 0, 0, 0, 0, 0, 1])"
            ]
          },
          "metadata": {
            "tags": []
          },
          "execution_count": 27
        }
      ]
    },
    {
      "cell_type": "code",
      "metadata": {
        "colab": {
          "base_uri": "https://localhost:8080/"
        },
        "id": "hbde7TNkURps",
        "outputId": "82d727f4-f6d9-4acc-9662-bd03d504c6e1"
      },
      "source": [
        "# Total de registros por classe - Câncer Benigno\n",
        "np.count_nonzero(target == 1)"
      ],
      "execution_count": 28,
      "outputs": [
        {
          "output_type": "execute_result",
          "data": {
            "text/plain": [
              "357"
            ]
          },
          "metadata": {
            "tags": []
          },
          "execution_count": 28
        }
      ]
    },
    {
      "cell_type": "code",
      "metadata": {
        "colab": {
          "base_uri": "https://localhost:8080/"
        },
        "id": "4x7mV_R4Uy1X",
        "outputId": "51322def-f0fb-49db-89de-5f0b1e30cfbe"
      },
      "source": [
        "# Total de registros por classe - Câncer Maligno\n",
        "np.count_nonzero(target == 0)\n"
      ],
      "execution_count": 29,
      "outputs": [
        {
          "output_type": "execute_result",
          "data": {
            "text/plain": [
              "212"
            ]
          },
          "metadata": {
            "tags": []
          },
          "execution_count": 29
        }
      ]
    },
    {
      "cell_type": "code",
      "metadata": {
        "id": "SWhSdtbzU2eQ"
      },
      "source": [
        "# Vamos extrair os labels\n",
        "\n",
        "# Dicionário para os labels\n",
        "labels = {}\n",
        "\n",
        "# Nomes das classes da variável target\n",
        "target_names = load_breast_cancer()[\"target_names\"]\n",
        "\n",
        "# Mapeamento\n",
        "for i in range(len(target_names)):\n",
        "    labels.update({i:target_names[i]})\n"
      ],
      "execution_count": 30,
      "outputs": []
    },
    {
      "cell_type": "code",
      "metadata": {
        "colab": {
          "base_uri": "https://localhost:8080/"
        },
        "id": "Q6GyUnBYVtku",
        "outputId": "10cca611-2b49-4d17-8365-a50579087e4b"
      },
      "source": [
        "# Visualiza os labels\n",
        "labels"
      ],
      "execution_count": 31,
      "outputs": [
        {
          "output_type": "execute_result",
          "data": {
            "text/plain": [
              "{0: 'malignant', 1: 'benign'}"
            ]
          },
          "metadata": {
            "tags": []
          },
          "execution_count": 31
        }
      ]
    },
    {
      "cell_type": "code",
      "metadata": {
        "id": "NpCH0zBaVzRv"
      },
      "source": [
        "# Agora preparamos as variáveis preditoras em X\n",
        "X = np.array(dados)\n"
      ],
      "execution_count": 32,
      "outputs": []
    },
    {
      "cell_type": "code",
      "metadata": {
        "colab": {
          "base_uri": "https://localhost:8080/"
        },
        "id": "7h4EOlQ3WYn0",
        "outputId": "16468b18-27a6-492c-ed23-37a883a96a55"
      },
      "source": [
        "X"
      ],
      "execution_count": 33,
      "outputs": [
        {
          "output_type": "execute_result",
          "data": {
            "text/plain": [
              "array([[1.799e+01, 1.038e+01, 1.228e+02, ..., 2.654e-01, 4.601e-01,\n",
              "        1.189e-01],\n",
              "       [2.057e+01, 1.777e+01, 1.329e+02, ..., 1.860e-01, 2.750e-01,\n",
              "        8.902e-02],\n",
              "       [1.969e+01, 2.125e+01, 1.300e+02, ..., 2.430e-01, 3.613e-01,\n",
              "        8.758e-02],\n",
              "       ...,\n",
              "       [1.660e+01, 2.808e+01, 1.083e+02, ..., 1.418e-01, 2.218e-01,\n",
              "        7.820e-02],\n",
              "       [2.060e+01, 2.933e+01, 1.401e+02, ..., 2.650e-01, 4.087e-01,\n",
              "        1.240e-01],\n",
              "       [7.760e+00, 2.454e+01, 4.792e+01, ..., 0.000e+00, 2.871e-01,\n",
              "        7.039e-02]])"
            ]
          },
          "metadata": {
            "tags": []
          },
          "execution_count": 33
        }
      ]
    },
    {
      "cell_type": "code",
      "metadata": {
        "id": "RMt12Z_IWcgI"
      },
      "source": [
        "# Dividimos os dados de entrada e saída em treino e teste\n",
        "X_treino, X_teste, y_treino, y_teste = train_test_split(X, target, test_size = 0.15, shuffle = True)\n"
      ],
      "execution_count": 34,
      "outputs": []
    },
    {
      "cell_type": "code",
      "metadata": {
        "colab": {
          "base_uri": "https://localhost:8080/"
        },
        "id": "oo3w4LyWWm-Z",
        "outputId": "e3328352-28e6-4ca7-d805-fb9e7b16de99"
      },
      "source": [
        "# Shape dos dados de treino\n",
        "print(X_treino.shape)\n",
        "print(y_treino.shape)\n"
      ],
      "execution_count": 35,
      "outputs": [
        {
          "output_type": "stream",
          "text": [
            "(483, 30)\n",
            "(483,)\n"
          ],
          "name": "stdout"
        }
      ]
    },
    {
      "cell_type": "code",
      "metadata": {
        "colab": {
          "base_uri": "https://localhost:8080/"
        },
        "id": "8ra1xoOAWuZv",
        "outputId": "9d8e6832-888b-4774-b48d-55fa12dfa368"
      },
      "source": [
        "# Shape dos dados de teste\n",
        "print(X_teste.shape)\n",
        "print(y_teste.shape)\n"
      ],
      "execution_count": 36,
      "outputs": [
        {
          "output_type": "stream",
          "text": [
            "(86, 30)\n",
            "(86,)\n"
          ],
          "name": "stdout"
        }
      ]
    },
    {
      "cell_type": "code",
      "metadata": {
        "id": "d7yi18IoWynZ"
      },
      "source": [
        "# Ajusta o shape dos dados de entrada\n",
        "X_treino = X_treino.T\n",
        "X_teste = X_teste.T\n"
      ],
      "execution_count": 37,
      "outputs": []
    },
    {
      "cell_type": "code",
      "metadata": {
        "colab": {
          "base_uri": "https://localhost:8080/"
        },
        "id": "7FDNftV8W4op",
        "outputId": "9a811b91-df21-4a71-cf88-6f08e354a85f"
      },
      "source": [
        "print(X_treino.shape)\n",
        "print(X_teste.shape)"
      ],
      "execution_count": 38,
      "outputs": [
        {
          "output_type": "stream",
          "text": [
            "(30, 483)\n",
            "(30, 86)\n"
          ],
          "name": "stdout"
        }
      ]
    },
    {
      "cell_type": "code",
      "metadata": {
        "id": "ngAIRzGJW_fI"
      },
      "source": [
        "# Precisamos ajustar também os dados de saída\n",
        "y_treino = y_treino.reshape(1, len(y_treino))\n",
        "y_teste = y_teste.reshape(1, len(y_teste))\n"
      ],
      "execution_count": 39,
      "outputs": []
    },
    {
      "cell_type": "code",
      "metadata": {
        "colab": {
          "base_uri": "https://localhost:8080/"
        },
        "id": "hLFg_sx0Xvoy",
        "outputId": "fb522235-b0f3-4018-e643-80bb18263cfc"
      },
      "source": [
        "print(y_treino.shape)\n",
        "print(y_teste.shape)"
      ],
      "execution_count": 40,
      "outputs": [
        {
          "output_type": "stream",
          "text": [
            "(1, 483)\n",
            "(1, 86)\n"
          ],
          "name": "stdout"
        }
      ]
    },
    {
      "cell_type": "code",
      "metadata": {
        "id": "Fp_EKt48X2Ld"
      },
      "source": [
        "# Variável com as dimensões de entrada para oo número de neurônios\n",
        "dims_camada_entrada = [X_treino.shape[0], 50, 20, 5, 1]\n"
      ],
      "execution_count": 41,
      "outputs": []
    },
    {
      "cell_type": "code",
      "metadata": {
        "colab": {
          "base_uri": "https://localhost:8080/"
        },
        "id": "zhRqhvFAX9Vm",
        "outputId": "73496abf-b7cb-4cb5-da94-1e958bba5e30"
      },
      "source": [
        "dims_camada_entrada"
      ],
      "execution_count": 42,
      "outputs": [
        {
          "output_type": "execute_result",
          "data": {
            "text/plain": [
              "[30, 50, 20, 5, 1]"
            ]
          },
          "metadata": {
            "tags": []
          },
          "execution_count": 42
        }
      ]
    },
    {
      "cell_type": "markdown",
      "metadata": {
        "id": "DNu_f-tIY0Nv"
      },
      "source": [
        "# Treinamento do Modelo"
      ]
    },
    {
      "cell_type": "code",
      "metadata": {
        "colab": {
          "base_uri": "https://localhost:8080/"
        },
        "id": "iE1gE-l3X_Uo",
        "outputId": "8e8ad976-3b04-4f1f-d7d2-655fef80356d"
      },
      "source": [
        "# Treinamento do modelo\n",
        "\n",
        "print(\"\\nIniciando o Treinamento.\\n\")\n",
        "\n",
        "parametros, custo = modeloNN(X = X_treino,\n",
        "                             Y = y_treino,\n",
        "                             dims_camada_entrada = dims_camada_entrada,\n",
        "                             num_iterations = 3000,\n",
        "                             learning_rate = 0.0075)\n",
        "\n",
        "print(\"\\nTreinamento Concluído.\\n\")\n"
      ],
      "execution_count": 44,
      "outputs": [
        {
          "output_type": "stream",
          "text": [
            "\n",
            "Iniciando o Treinamento.\n",
            "\n",
            "Custo Após 0 iterações é 0.6931486730081682\n",
            "Custo Após 10 iterações é 0.6917928408397875\n",
            "Custo Após 20 iterações é 0.69048682652899\n",
            "Custo Após 30 iterações é 0.6892287828032523\n",
            "Custo Após 40 iterações é 0.6880169297217283\n",
            "Custo Após 50 iterações é 0.6868495496190096\n",
            "Custo Após 60 iterações é 0.6857249829679642\n",
            "Custo Após 70 iterações é 0.6846416358542721\n",
            "Custo Após 80 iterações é 0.6835979713163978\n",
            "Custo Após 90 iterações é 0.6825925108373844\n",
            "Custo Após 100 iterações é 0.6816238236895286\n",
            "Custo Após 110 iterações é 0.6806905328082503\n",
            "Custo Após 120 iterações é 0.6797913467910267\n",
            "Custo Após 130 iterações é 0.6789253579363308\n",
            "Custo Após 140 iterações é 0.678091494546524\n",
            "Custo Após 150 iterações é 0.6772881576370366\n",
            "Custo Após 160 iterações é 0.6765141514982632\n",
            "Custo Após 170 iterações é 0.6757683768372694\n",
            "Custo Após 180 iterações é 0.6750497667314079\n",
            "Custo Após 190 iterações é 0.6743572944315812\n",
            "Custo Após 200 iterações é 0.6736899697182565\n",
            "Custo Após 210 iterações é 0.673046841909828\n",
            "Custo Após 220 iterações é 0.6724269948903514\n",
            "Custo Após 230 iterações é 0.6718295403368018\n",
            "Custo Após 240 iterações é 0.6712536278753092\n",
            "Custo Após 250 iterações é 0.6706984293938509\n",
            "Custo Após 260 iterações é 0.670163146399525\n",
            "Custo Após 270 iterações é 0.6696470094374475\n",
            "Custo Após 280 iterações é 0.6691492714708493\n",
            "Custo Após 290 iterações é 0.6686692109995205\n",
            "Custo Após 300 iterações é 0.6682061327876392\n",
            "Custo Após 310 iterações é 0.6677593597931417\n",
            "Custo Após 320 iterações é 0.6673282346435824\n",
            "Custo Após 330 iterações é 0.6669121236807466\n",
            "Custo Após 340 iterações é 0.6665103999058187\n",
            "Custo Após 350 iterações é 0.666122453074817\n",
            "Custo Após 360 iterações é 0.6657476872492474\n",
            "Custo Após 370 iterações é 0.6653855135567108\n",
            "Custo Após 380 iterações é 0.6650353423677285\n",
            "Custo Após 390 iterações é 0.6646965758383996\n",
            "Custo Após 400 iterações é 0.6643687330132516\n",
            "Custo Após 410 iterações é 0.6640515194804184\n",
            "Custo Após 420 iterações é 0.6637442073541728\n",
            "Custo Após 430 iterações é 0.6634463096460382\n",
            "Custo Após 440 iterações é 0.6631573206372287\n",
            "Custo Após 450 iterações é 0.662876749112376\n",
            "Custo Após 460 iterações é 0.6626041087805105\n",
            "Custo Após 470 iterações é 0.6623386089671455\n",
            "Custo Após 480 iterações é 0.6620795602983708\n",
            "Custo Após 490 iterações é 0.6618261437509788\n",
            "Custo Após 500 iterações é 0.6615776323674679\n",
            "Custo Após 510 iterações é 0.661333188614367\n",
            "Custo Após 520 iterações é 0.6610917763250862\n",
            "Custo Após 530 iterações é 0.6608522345631821\n",
            "Custo Após 540 iterações é 0.6606131799964116\n",
            "Custo Após 550 iterações é 0.6603730075705538\n",
            "Custo Após 560 iterações é 0.6601296768660639\n",
            "Custo Após 570 iterações é 0.659880671305148\n",
            "Custo Após 580 iterações é 0.659622792255479\n",
            "Custo Após 590 iterações é 0.6593518743721563\n",
            "Custo Após 600 iterações é 0.6590624304781992\n",
            "Custo Após 610 iterações é 0.6587470465239909\n",
            "Custo Após 620 iterações é 0.658395479888456\n",
            "Custo Após 630 iterações é 0.6579938385702636\n",
            "Custo Após 640 iterações é 0.6575219118931391\n",
            "Custo Após 650 iterações é 0.6569473341032678\n",
            "Custo Após 660 iterações é 0.6562210017319265\n",
            "Custo Após 670 iterações é 0.6552643348811313\n",
            "Custo Após 680 iterações é 0.6539461575837859\n",
            "Custo Após 690 iterações é 0.652038744221035\n",
            "Custo Após 700 iterações é 0.6491341555825713\n",
            "Custo Após 710 iterações é 0.6445028689247346\n",
            "Custo Após 720 iterações é 0.6369933431691702\n",
            "Custo Após 730 iterações é 0.6257853752494311\n",
            "Custo Após 740 iterações é 0.6136784927827936\n",
            "Custo Após 750 iterações é 0.6063604024285092\n",
            "Custo Após 760 iterações é 0.6028514165106412\n",
            "Custo Após 770 iterações é 0.6001608119044973\n",
            "Custo Após 780 iterações é 0.5975384525237536\n",
            "Custo Após 790 iterações é 0.5949001017293946\n",
            "Custo Após 800 iterações é 0.592234791275766\n",
            "Custo Após 810 iterações é 0.5895361294479176\n",
            "Custo Após 820 iterações é 0.5867967629221205\n",
            "Custo Após 830 iterações é 0.5840077947727945\n",
            "Custo Após 840 iterações é 0.581158279607346\n",
            "Custo Após 850 iterações é 0.5782347026958444\n",
            "Custo Após 860 iterações é 0.5752198093457803\n",
            "Custo Após 870 iterações é 0.5720916029186014\n",
            "Custo Após 880 iterações é 0.5688215426366727\n",
            "Custo Após 890 iterações é 0.565372019545128\n",
            "Custo Após 900 iterações é 0.5616926806984147\n",
            "Custo Após 910 iterações é 0.5577149576391301\n",
            "Custo Após 920 iterações é 0.553344158191421\n",
            "Custo Após 930 iterações é 0.548447593948948\n",
            "Custo Após 940 iterações é 0.5428378972516814\n",
            "Custo Após 950 iterações é 0.5362597822319958\n",
            "Custo Após 960 iterações é 0.5284801603448139\n",
            "Custo Após 970 iterações é 0.5190735409304666\n",
            "Custo Após 980 iterações é 0.5075675406257405\n",
            "Custo Após 990 iterações é 0.49332649777440285\n",
            "Custo Após 1000 iterações é 0.4758020806515354\n",
            "Custo Após 1010 iterações é 0.4559090282438344\n",
            "Custo Após 1020 iterações é 0.4363975263675016\n",
            "Custo Após 1030 iterações é 0.4583249291969109\n",
            "Custo Após 1040 iterações é 0.46512784346658403\n",
            "Custo Após 1050 iterações é 0.4538194052725516\n",
            "Custo Após 1060 iterações é 0.4470387914992877\n",
            "Custo Após 1070 iterações é 0.4401114841931186\n",
            "Custo Após 1080 iterações é 0.4305375081260465\n",
            "Custo Após 1090 iterações é 0.4236234941275128\n",
            "Custo Após 1100 iterações é 0.41391454731175564\n",
            "Custo Após 1110 iterações é 0.4080221945641341\n",
            "Custo Após 1120 iterações é 0.4024028417694719\n",
            "Custo Após 1130 iterações é 0.39741179436736984\n",
            "Custo Após 1140 iterações é 0.39078334557174615\n",
            "Custo Após 1150 iterações é 0.38695842504197303\n",
            "Custo Após 1160 iterações é 0.38268089857016363\n",
            "Custo Após 1170 iterações é 0.37804760991735925\n",
            "Custo Após 1180 iterações é 0.3752725604189449\n",
            "Custo Após 1190 iterações é 0.37142822555107574\n",
            "Custo Após 1200 iterações é 0.3691693177070089\n",
            "Custo Após 1210 iterações é 0.36569570178891375\n",
            "Custo Após 1220 iterações é 0.362952417299615\n",
            "Custo Após 1230 iterações é 0.3597141822189198\n",
            "Custo Após 1240 iterações é 0.3576297776131026\n",
            "Custo Após 1250 iterações é 0.35645122192105483\n",
            "Custo Após 1260 iterações é 0.35223805622929294\n",
            "Custo Após 1270 iterações é 0.3516380742431882\n",
            "Custo Após 1280 iterações é 0.3499290738374027\n",
            "Custo Após 1290 iterações é 0.3463825231465381\n",
            "Custo Após 1300 iterações é 0.3439579627667818\n",
            "Custo Após 1310 iterações é 0.34115245369512887\n",
            "Custo Após 1320 iterações é 0.33982454031217046\n",
            "Custo Após 1330 iterações é 0.3364651392703838\n",
            "Custo Após 1340 iterações é 0.33095648452602744\n",
            "Custo Após 1350 iterações é 0.33245893569655116\n",
            "Custo Após 1360 iterações é 0.3279170051439532\n",
            "Custo Após 1370 iterações é 0.3287094307829766\n",
            "Custo Após 1380 iterações é 0.32747448621667197\n",
            "Custo Após 1390 iterações é 0.3256957597342124\n",
            "Custo Após 1400 iterações é 0.32345734265520243\n",
            "Custo Após 1410 iterações é 0.3219497784149667\n",
            "Custo Após 1420 iterações é 0.32187944734196666\n",
            "Custo Após 1430 iterações é 0.31936295066175835\n",
            "Custo Após 1440 iterações é 0.3212927098579532\n",
            "Custo Após 1450 iterações é 0.32132734502661986\n",
            "Custo Após 1460 iterações é 0.3194888873927453\n",
            "Custo Após 1470 iterações é 0.3129576950268233\n",
            "Custo Após 1480 iterações é 0.3121221114403795\n",
            "Custo Após 1490 iterações é 0.3111782280975158\n",
            "Custo Após 1500 iterações é 0.3093192409909334\n",
            "Custo Após 1510 iterações é 0.3078712712834739\n",
            "Custo Após 1520 iterações é 0.30698522596914507\n",
            "Custo Após 1530 iterações é 0.30632586190574657\n",
            "Custo Após 1540 iterações é 0.304954340133661\n",
            "Custo Após 1550 iterações é 0.3046197340195639\n",
            "Custo Após 1560 iterações é 0.30354169242773354\n",
            "Custo Após 1570 iterações é 0.30042562364793307\n",
            "Custo Após 1580 iterações é 0.2980473914141161\n",
            "Custo Após 1590 iterações é 0.2975330999794092\n",
            "Custo Após 1600 iterações é 0.2973638956131356\n",
            "Custo Após 1610 iterações é 0.29685666509716196\n",
            "Custo Após 1620 iterações é 0.2971077701481062\n",
            "Custo Após 1630 iterações é 0.2949037380547323\n",
            "Custo Após 1640 iterações é 0.2942892587662971\n",
            "Custo Após 1650 iterações é 0.2930896811135906\n",
            "Custo Após 1660 iterações é 0.29200600446050184\n",
            "Custo Após 1670 iterações é 0.29221545241513236\n",
            "Custo Após 1680 iterações é 0.2899461770377938\n",
            "Custo Após 1690 iterações é 0.28562442277743727\n",
            "Custo Após 1700 iterações é 0.28048113025430543\n",
            "Custo Após 1710 iterações é 0.28256916491225964\n",
            "Custo Após 1720 iterações é 0.2841897649089429\n",
            "Custo Após 1730 iterações é 0.28374971278987765\n",
            "Custo Após 1740 iterações é 0.2890335715080815\n",
            "Custo Após 1750 iterações é 0.28846113980669036\n",
            "Custo Após 1760 iterações é 0.28609894027248856\n",
            "Custo Após 1770 iterações é 0.28335879009697773\n",
            "Custo Após 1780 iterações é 0.2737375788030203\n",
            "Custo Após 1790 iterações é 0.27212931910775856\n",
            "Custo Após 1800 iterações é 0.27336545080973934\n",
            "Custo Após 1810 iterações é 0.2732913385142654\n",
            "Custo Após 1820 iterações é 0.27169307514933927\n",
            "Custo Após 1830 iterações é 0.27197418765080544\n",
            "Custo Após 1840 iterações é 0.27009568609733137\n",
            "Custo Após 1850 iterações é 0.27380976014306985\n",
            "Custo Após 1860 iterações é 0.28020923701795597\n",
            "Custo Após 1870 iterações é 0.2817276224141752\n",
            "Custo Após 1880 iterações é 0.2805278086007221\n",
            "Custo Após 1890 iterações é 0.2796425478593853\n",
            "Custo Após 1900 iterações é 0.2772577320215647\n",
            "Custo Após 1910 iterações é 0.26528494632233496\n",
            "Custo Após 1920 iterações é 0.2637497883019777\n",
            "Custo Após 1930 iterações é 0.2633184898904518\n",
            "Custo Após 1940 iterações é 0.26274757309857005\n",
            "Custo Após 1950 iterações é 0.26573397951920374\n",
            "Custo Após 1960 iterações é 0.2655546334805437\n",
            "Custo Após 1970 iterações é 0.2656649056692341\n",
            "Custo Após 1980 iterações é 0.26672217776641677\n",
            "Custo Após 1990 iterações é 0.26758497917445523\n",
            "Custo Após 2000 iterações é 0.268468815676793\n",
            "Custo Após 2010 iterações é 0.26230164139529577\n",
            "Custo Após 2020 iterações é 0.26086503020071355\n",
            "Custo Após 2030 iterações é 0.26259442688112417\n",
            "Custo Após 2040 iterações é 0.26606946572921103\n",
            "Custo Após 2050 iterações é 0.2656502657665396\n",
            "Custo Após 2060 iterações é 0.26327347970434556\n",
            "Custo Após 2070 iterações é 0.25953490174169447\n",
            "Custo Após 2080 iterações é 0.2544387589244674\n",
            "Custo Após 2090 iterações é 0.2565721672748247\n",
            "Custo Após 2100 iterações é 0.2616540376660217\n",
            "Custo Após 2110 iterações é 0.26201312537701504\n",
            "Custo Após 2120 iterações é 0.2612638502881403\n",
            "Custo Após 2130 iterações é 0.2600905973344833\n",
            "Custo Após 2140 iterações é 0.2588570982095416\n",
            "Custo Após 2150 iterações é 0.25519285592865026\n",
            "Custo Após 2160 iterações é 0.25151090797760967\n",
            "Custo Após 2170 iterações é 0.2563732237634291\n",
            "Custo Após 2180 iterações é 0.2565496443064857\n",
            "Custo Após 2190 iterações é 0.25751539120900324\n",
            "Custo Após 2200 iterações é 0.25645686728001055\n",
            "Custo Após 2210 iterações é 0.2551160317472147\n",
            "Custo Após 2220 iterações é 0.25068418621043215\n",
            "Custo Após 2230 iterações é 0.24981475937864395\n",
            "Custo Após 2240 iterações é 0.25377241514900556\n",
            "Custo Após 2250 iterações é 0.2535693550246599\n",
            "Custo Após 2260 iterações é 0.2490008298887781\n",
            "Custo Após 2270 iterações é 0.24667041750250696\n",
            "Custo Após 2280 iterações é 0.25074260612800725\n",
            "Custo Após 2290 iterações é 0.2544867936657296\n",
            "Custo Após 2300 iterações é 0.25451989599428143\n",
            "Custo Após 2310 iterações é 0.2503601452067131\n",
            "Custo Após 2320 iterações é 0.2477497840144481\n",
            "Custo Após 2330 iterações é 0.246850900287705\n",
            "Custo Após 2340 iterações é 0.24863512992186715\n",
            "Custo Após 2350 iterações é 0.250727286956499\n",
            "Custo Após 2360 iterações é 0.24916832321983096\n",
            "Custo Após 2370 iterações é 0.24492444535945723\n",
            "Custo Após 2380 iterações é 0.24514292176843958\n",
            "Custo Após 2390 iterações é 0.24935607441972907\n",
            "Custo Após 2400 iterações é 0.24801100836846254\n",
            "Custo Após 2410 iterações é 0.24367940165901042\n",
            "Custo Após 2420 iterações é 0.24438919475875134\n",
            "Custo Após 2430 iterações é 0.24416525130207078\n",
            "Custo Após 2440 iterações é 0.24335836269673009\n",
            "Custo Após 2450 iterações é 0.2454551224098527\n",
            "Custo Após 2460 iterações é 0.24862057036671345\n",
            "Custo Após 2470 iterações é 0.24447988345243699\n",
            "Custo Após 2480 iterações é 0.24115507672095554\n",
            "Custo Após 2490 iterações é 0.24336920222771893\n",
            "Custo Após 2500 iterações é 0.24672853800476266\n",
            "Custo Após 2510 iterações é 0.24718721732400148\n",
            "Custo Após 2520 iterações é 0.24293273300985585\n",
            "Custo Após 2530 iterações é 0.23744436120540563\n",
            "Custo Após 2540 iterações é 0.23962770537699835\n",
            "Custo Após 2550 iterações é 0.24430623242877936\n",
            "Custo Após 2560 iterações é 0.24322664702010674\n",
            "Custo Após 2570 iterações é 0.24443141912685762\n",
            "Custo Após 2580 iterações é 0.24366243161453283\n",
            "Custo Após 2590 iterações é 0.242434582134235\n",
            "Custo Após 2600 iterações é 0.2405710672239455\n",
            "Custo Após 2610 iterações é 0.2358478285029434\n",
            "Custo Após 2620 iterações é 0.23127083753084057\n",
            "Custo Após 2630 iterações é 0.2307921612533304\n",
            "Custo Após 2640 iterações é 0.23209022229511383\n",
            "Custo Após 2650 iterações é 0.2465214045736812\n",
            "Custo Após 2660 iterações é 0.2414618167268462\n",
            "Custo Após 2670 iterações é 0.24044898234761805\n",
            "Custo Após 2680 iterações é 0.23953975204287106\n",
            "Custo Após 2690 iterações é 0.24098938192411382\n",
            "Custo Após 2700 iterações é 0.24044099818637335\n",
            "Custo Após 2710 iterações é 0.23933119588603213\n",
            "Custo Após 2720 iterações é 0.23545580541554867\n",
            "Custo Após 2730 iterações é 0.22873393950053406\n",
            "Custo Após 2740 iterações é 0.2276340535502877\n",
            "Custo Após 2750 iterações é 0.23213315041477434\n",
            "Custo Após 2760 iterações é 0.23828210884452378\n",
            "Custo Após 2770 iterações é 0.23812459072569958\n",
            "Custo Após 2780 iterações é 0.23505474495155684\n",
            "Custo Após 2790 iterações é 0.23503201539614407\n",
            "Custo Após 2800 iterações é 0.22735857107264748\n",
            "Custo Após 2810 iterações é 0.22442566425291094\n",
            "Custo Após 2820 iterações é 0.22712529017142494\n",
            "Custo Após 2830 iterações é 0.2399108405565584\n",
            "Custo Após 2840 iterações é 0.23124027918992368\n",
            "Custo Após 2850 iterações é 0.22621516883169215\n",
            "Custo Após 2860 iterações é 0.2231207188755974\n",
            "Custo Após 2870 iterações é 0.2280685887138883\n",
            "Custo Após 2880 iterações é 0.2329037246583236\n",
            "Custo Após 2890 iterações é 0.23488607963941815\n",
            "Custo Após 2900 iterações é 0.2310888494037773\n",
            "Custo Após 2910 iterações é 0.22939824247625346\n",
            "Custo Após 2920 iterações é 0.22451800921948414\n",
            "Custo Após 2930 iterações é 0.2210840741015254\n",
            "Custo Após 2940 iterações é 0.22244030463022513\n",
            "Custo Após 2950 iterações é 0.23710924064117242\n",
            "Custo Após 2960 iterações é 0.23016144237707276\n",
            "Custo Após 2970 iterações é 0.2328170185878865\n",
            "Custo Após 2980 iterações é 0.2260899179029545\n",
            "Custo Após 2990 iterações é 0.22195084660647366\n",
            "\n",
            "Treinamento Concluído.\n",
            "\n"
          ],
          "name": "stdout"
        }
      ]
    },
    {
      "cell_type": "code",
      "metadata": {
        "colab": {
          "base_uri": "https://localhost:8080/",
          "height": 282
        },
        "id": "63lT0oo0Y6BJ",
        "outputId": "619be36f-a551-4b75-b4cf-67259f91f71c"
      },
      "source": [
        "# Plot do erro durante o treinamento\n",
        "plt.plot(custo)"
      ],
      "execution_count": 45,
      "outputs": [
        {
          "output_type": "execute_result",
          "data": {
            "text/plain": [
              "[<matplotlib.lines.Line2D at 0x7fc338ac5910>]"
            ]
          },
          "metadata": {
            "tags": []
          },
          "execution_count": 45
        },
        {
          "output_type": "display_data",
          "data": {
            "image/png": "[encoded data removed]",
            "text/plain": [
              "<Figure size 432x288 with 1 Axes>"
            ]
          },
          "metadata": {
            "tags": [],
            "needs_background": "light"
          }
        }
      ]
    },
    {
      "cell_type": "markdown",
      "metadata": {
        "id": "zptGF3BsaQGi"
      },
      "source": [
        "# Previsões com dados de treino"
      ]
    },
    {
      "cell_type": "code",
      "metadata": {
        "id": "7VJxg93bZTYr"
      },
      "source": [
        "# Previsões com os dados de treino\n",
        "y_pred_treino = predict(X_treino, parametros)\n"
      ],
      "execution_count": 46,
      "outputs": []
    },
    {
      "cell_type": "code",
      "metadata": {
        "id": "vBtFaO_MaVDi"
      },
      "source": [
        "# Ajustamos o shape em treino\n",
        "y_pred_treino = y_pred_treino.reshape(-1)\n",
        "y_treino = y_treino.reshape(-1)\n"
      ],
      "execution_count": 47,
      "outputs": []
    },
    {
      "cell_type": "code",
      "metadata": {
        "id": "RVJewGVtaaqg"
      },
      "source": [
        "# Convertemos as previsões para o valor binário de classe\n",
        "# (0 ou 1, usando como threshold o valor de 0.5 da probabilidade)\n",
        "y_pred_treino = 1 * (y_pred_treino > 0.5)\n"
      ],
      "execution_count": 48,
      "outputs": []
    },
    {
      "cell_type": "code",
      "metadata": {
        "id": "ipZ5zz_Vakd4"
      },
      "source": [
        "# Calculamos a acurácia comparando valor real com valor previsto\n",
        "acc_treino = sum(1 * (y_pred_treino == y_treino)) / len(y_pred_treino) * 100\n"
      ],
      "execution_count": 49,
      "outputs": []
    },
    {
      "cell_type": "markdown",
      "metadata": {
        "id": "K7XDbMUccFHp"
      },
      "source": [
        "# Avaliando a performance do modelo"
      ]
    },
    {
      "cell_type": "code",
      "metadata": {
        "colab": {
          "base_uri": "https://localhost:8080/"
        },
        "id": "seiV6pJbbIK1",
        "outputId": "2ad3cd3f-44d6-4219-d134-45b077587e43"
      },
      "source": [
        "print(\"Acurácia nos dados de treino: \" + str(acc_treino))"
      ],
      "execution_count": 50,
      "outputs": [
        {
          "output_type": "stream",
          "text": [
            "Acurácia nos dados de treino: 92.33954451345755\n"
          ],
          "name": "stdout"
        }
      ]
    },
    {
      "cell_type": "code",
      "metadata": {
        "colab": {
          "base_uri": "https://localhost:8080/"
        },
        "id": "SV_3O8EbbMzY",
        "outputId": "b0ccd4bd-d85d-4db4-bdec-33536aad61eb"
      },
      "source": [
        "print(classification_report(y_treino, y_pred_treino, target_names = ['Maligno', 'Benigno']))"
      ],
      "execution_count": 51,
      "outputs": [
        {
          "output_type": "stream",
          "text": [
            "              precision    recall  f1-score   support\n",
            "\n",
            "     Maligno       0.92      0.87      0.89       176\n",
            "     Benigno       0.93      0.95      0.94       307\n",
            "\n",
            "    accuracy                           0.92       483\n",
            "   macro avg       0.92      0.91      0.92       483\n",
            "weighted avg       0.92      0.92      0.92       483\n",
            "\n"
          ],
          "name": "stdout"
        }
      ]
    },
    {
      "cell_type": "code",
      "metadata": {
        "id": "lzbQ2Z-sbUQ8"
      },
      "source": [
        "# Previsões com o modelo usando dados de teste\n",
        "y_pred_teste = predict(X_teste, parametros)\n"
      ],
      "execution_count": 52,
      "outputs": []
    },
    {
      "cell_type": "code",
      "metadata": {
        "colab": {
          "base_uri": "https://localhost:8080/"
        },
        "id": "tIiqRrqEbaa3",
        "outputId": "b718b4c0-bab5-4681-e70c-aae6d5c9274f"
      },
      "source": [
        "y_pred_teste"
      ],
      "execution_count": 53,
      "outputs": [
        {
          "output_type": "execute_result",
          "data": {
            "text/plain": [
              "array([[1.53999537e-01, 5.52118057e-06, 8.67024808e-01, 8.22648791e-01,\n",
              "        6.92682985e-03, 4.79340772e-02, 3.35346058e-01, 8.61257351e-01,\n",
              "        8.80151335e-01, 2.33563467e-02, 8.25884468e-01, 8.93499515e-04,\n",
              "        7.27191239e-01, 7.72045125e-01, 9.03112530e-02, 6.39202435e-05,\n",
              "        8.80328583e-01, 8.80188039e-01, 8.24489904e-12, 7.38492663e-01,\n",
              "        7.55432522e-01, 8.48786966e-01, 8.80309198e-01, 7.30828272e-01,\n",
              "        8.66266336e-01, 2.06253605e-07, 8.80103800e-01, 1.25709750e-03,\n",
              "        1.62442942e-06, 8.80338188e-01, 1.98775039e-01, 2.02692073e-17,\n",
              "        8.80141945e-01, 2.66154297e-05, 2.55812238e-06, 3.46476529e-02,\n",
              "        7.83273797e-01, 5.75051926e-01, 8.74917923e-01, 8.30069592e-06,\n",
              "        1.15198051e-01, 8.80208758e-01, 8.80310673e-01, 8.43240910e-06,\n",
              "        2.34445342e-06, 7.63537729e-01, 8.80250520e-01, 8.77921818e-01,\n",
              "        4.48700982e-01, 8.76538871e-01, 8.80212414e-01, 6.25197585e-01,\n",
              "        8.80159498e-01, 8.80308627e-01, 2.04125458e-09, 6.36537718e-01,\n",
              "        8.80324317e-01, 7.07796173e-01, 8.80143388e-01, 8.80187741e-01,\n",
              "        8.03279021e-01, 3.97413031e-10, 4.63534148e-09, 2.87799605e-06,\n",
              "        8.80192443e-01, 8.80232417e-01, 8.56770400e-01, 2.99950552e-02,\n",
              "        7.47961828e-11, 4.25438090e-01, 1.55488723e-03, 5.57655137e-03,\n",
              "        8.80305201e-01, 1.65061466e-01, 6.96081366e-01, 8.42136918e-01,\n",
              "        8.26987838e-01, 2.09244253e-09, 8.40522986e-01, 7.32085595e-01,\n",
              "        8.80070490e-01, 3.74280138e-05, 1.79744574e-06, 5.50914382e-03,\n",
              "        8.80299222e-01, 8.80111625e-01]])"
            ]
          },
          "metadata": {
            "tags": []
          },
          "execution_count": 53
        }
      ]
    },
    {
      "cell_type": "code",
      "metadata": {
        "id": "RNB1GEiNbdCv"
      },
      "source": [
        "# Ajustamos os shapes\n",
        "y_pred_teste = y_pred_teste.reshape(-1)\n",
        "y_teste = y_teste.reshape(-1)\n"
      ],
      "execution_count": 54,
      "outputs": []
    },
    {
      "cell_type": "code",
      "metadata": {
        "id": "0wLd98E4cSzh"
      },
      "source": [
        "# Convertemos as previsões para o valor binário de classe\n",
        "y_pred_teste = 1 * (y_pred_teste > 0.5)\n"
      ],
      "execution_count": 55,
      "outputs": []
    },
    {
      "cell_type": "code",
      "metadata": {
        "colab": {
          "base_uri": "https://localhost:8080/"
        },
        "id": "iM2HOQpMcXfx",
        "outputId": "c01d0c6f-d205-4297-e290-f934bcd86a33"
      },
      "source": [
        "y_pred_teste"
      ],
      "execution_count": 56,
      "outputs": [
        {
          "output_type": "execute_result",
          "data": {
            "text/plain": [
              "array([0, 0, 1, 1, 0, 0, 0, 1, 1, 0, 1, 0, 1, 1, 0, 0, 1, 1, 0, 1, 1, 1,\n",
              "       1, 1, 1, 0, 1, 0, 0, 1, 0, 0, 1, 0, 0, 0, 1, 1, 1, 0, 0, 1, 1, 0,\n",
              "       0, 1, 1, 1, 0, 1, 1, 1, 1, 1, 0, 1, 1, 1, 1, 1, 1, 0, 0, 0, 1, 1,\n",
              "       1, 0, 0, 0, 0, 0, 1, 0, 1, 1, 1, 0, 1, 1, 1, 0, 0, 0, 1, 1])"
            ]
          },
          "metadata": {
            "tags": []
          },
          "execution_count": 56
        }
      ]
    },
    {
      "cell_type": "code",
      "metadata": {
        "id": "SOFJsIyUcdhd"
      },
      "source": [
        "# Calculamos a acurácia\n",
        "acuracia = sum(1 * (y_pred_teste == y_teste)) / len(y_pred_teste) * 100\n"
      ],
      "execution_count": 57,
      "outputs": []
    },
    {
      "cell_type": "code",
      "metadata": {
        "colab": {
          "base_uri": "https://localhost:8080/"
        },
        "id": "qLUeaSUsciIn",
        "outputId": "51ee21d9-711f-40b4-c6bf-36ef7974b65b"
      },
      "source": [
        "print(\"Acurácia nos dados de teste: \" + str(acuracia))"
      ],
      "execution_count": 58,
      "outputs": [
        {
          "output_type": "stream",
          "text": [
            "Acurácia nos dados de teste: 91.86046511627907\n"
          ],
          "name": "stdout"
        }
      ]
    },
    {
      "cell_type": "code",
      "metadata": {
        "colab": {
          "base_uri": "https://localhost:8080/"
        },
        "id": "KyBXK8Kfcmpa",
        "outputId": "8b49ae9e-0a18-41fd-bfd2-fb0573ee3f0a"
      },
      "source": [
        "print(classification_report(y_teste, y_pred_teste, target_names = ['Maligno', 'Benigno']))\n"
      ],
      "execution_count": 59,
      "outputs": [
        {
          "output_type": "stream",
          "text": [
            "              precision    recall  f1-score   support\n",
            "\n",
            "     Maligno       0.89      0.92      0.90        36\n",
            "     Benigno       0.94      0.92      0.93        50\n",
            "\n",
            "    accuracy                           0.92        86\n",
            "   macro avg       0.92      0.92      0.92        86\n",
            "weighted avg       0.92      0.92      0.92        86\n",
            "\n"
          ],
          "name": "stdout"
        }
      ]
    },
    {
      "cell_type": "markdown",
      "metadata": {
        "id": "XXAAeIHPc6hH"
      },
      "source": [
        "# Nosso modelo obteve a mesma acurácia nos dados de teste. Mas o trabalho continua."
      ]
    }
  ]
}